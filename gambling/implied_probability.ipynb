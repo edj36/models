{
 "cells": [
  {
   "cell_type": "markdown",
   "metadata": {},
   "source": [
    "# Formulas for implied probability:\n",
    "\n",
    "In general:\n",
    "\n",
    "$$p = \\frac{s}{t}$$\n",
    "\n",
    "where $p$ is implied probability, $s$ is stake (i.e. amount wagered), $t$ is total payout\n",
    "\n",
    "For moneyline odds:\n",
    "\n",
    "$$p = \\frac{-1*m}{(-1*m)+100}$$\n",
    "\n",
    "where $p$ is implied probability, $m$ is minus money line odds\n",
    "\n",
    "For fractional odds:\n",
    "\n",
    "$$p = \\frac{x}{x+y}$$\n",
    "\n",
    "where $p$ is implied probability, $x$ and $y$ correspond to the odds $\\frac{x}{y}$\n",
    "\n",
    "\n",
    "Links:\n",
    "\n",
    "- https://www.betlabssports.com/blog/implied-probabilities/\n",
    "- https://www.investopedia.com/articles/dictionary/042215/understand-math-behind-betting-odds-gambling.asp\n"
   ]
  },
  {
   "cell_type": "code",
   "execution_count": 1,
   "metadata": {
    "collapsed": false
   },
   "outputs": [],
   "source": [
    "def implied_prob(s, t):\n",
    "    \"\"\"\n",
    "    Returns implied probability given betting odds\n",
    "    \"\"\"\n",
    "    return s/t"
   ]
  },
  {
   "cell_type": "markdown",
   "metadata": {
    "collapsed": true
   },
   "source": [
    "Relate these outcomes/formulas to the Kelly Criterion."
   ]
  },
  {
   "cell_type": "markdown",
   "metadata": {},
   "source": [
    "# [Kelly criterion](https://en.wikipedia.org/wiki/Kelly_criterion)\n",
    "\n",
    "(From linked wikipedia): For simple bets with two outcomes, one involving losing the entire amount bet, and the other involving winning the bet amount multiplied by the payoff odds, the Kelly bet is:\n",
    "\n",
    "$$\n",
    "f^{*}={\\frac {bp-q}{b}}={\\frac {bp-(1-p)}{b}}={\\frac {p(b+1)-1}{b}}\n",
    "$$\n",
    "where:\n",
    "\n",
    "- $f^{*}$ is the fraction of the current bankroll to wager, i.e. how much to bet;\n",
    "- $b$ is the net odds received on the wager (\"$b$ to 1\"); that is, you could win \\$b (on top of getting back your \\$1 wagered) for a \\$1 bet\n",
    "- $p$ is the probability of winning;\n",
    "- $q$ is the probability of losing, which is $1 − p$."
   ]
  },
  {
   "cell_type": "code",
   "execution_count": 2,
   "metadata": {
    "collapsed": true
   },
   "outputs": [],
   "source": [
    "def kelly_bet(b, p):\n",
    "    \"\"\"\n",
    "    Return fraction of bankroll `b` to bet\n",
    "    according to Kelly criterion\n",
    "    \"\"\"\n",
    "    q = 1-p\n",
    "    return ((b*p)-q)/b"
   ]
  },
  {
   "cell_type": "markdown",
   "metadata": {},
   "source": [
    "If you can get good at calculating $p$ for any sports game, etc. then you should be able to bet with good EV."
   ]
  },
  {
   "cell_type": "code",
   "execution_count": 3,
   "metadata": {
    "collapsed": false
   },
   "outputs": [
    {
     "name": "stdout",
     "output_type": "stream",
     "text": [
      "32.50000000000001\n"
     ]
    }
   ],
   "source": [
    "bank = 100\n",
    "b = 2 # 2 to 1 odds\n",
    "p = 0.55\n",
    "\n",
    "k = kelly_bet(b, p)\n",
    "\n",
    "print(k*bank)"
   ]
  },
  {
   "cell_type": "markdown",
   "metadata": {},
   "source": [
    "Goal: back test fivethirty eight/money puck with vegas odds and see if you would come out ahead"
   ]
  },
  {
   "cell_type": "code",
   "execution_count": null,
   "metadata": {
    "collapsed": true
   },
   "outputs": [],
   "source": []
  }
 ],
 "metadata": {
  "kernelspec": {
   "display_name": "Python [conda root]",
   "language": "python",
   "name": "conda-root-py"
  },
  "language_info": {
   "codemirror_mode": {
    "name": "ipython",
    "version": 3
   },
   "file_extension": ".py",
   "mimetype": "text/x-python",
   "name": "python",
   "nbconvert_exporter": "python",
   "pygments_lexer": "ipython3",
   "version": "3.5.2"
  }
 },
 "nbformat": 4,
 "nbformat_minor": 2
}
