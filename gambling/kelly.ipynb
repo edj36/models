{
 "cells": [
  {
   "cell_type": "code",
   "execution_count": 1,
   "metadata": {
    "colab": {},
    "colab_type": "code",
    "id": "1DaJFZa8FfY1"
   },
   "outputs": [],
   "source": [
    "def kelly_bet(b, p):\n",
    "    \"\"\"\n",
    "    Return fraction of bankroll to bet\n",
    "    according to Kelly criterion\n",
    "    b is odds (b to 1)\n",
    "    p is prob of winning bet\n",
    "    \"\"\"\n",
    "    q = 1-p\n",
    "    return ((b*p)-q)/b\n",
    "\n",
    "def implied_prob(s, t):\n",
    "    \"\"\"\n",
    "    Returns implied probability given betting odds\n",
    "    \"\"\"\n",
    "    return s/t"
   ]
  },
  {
   "cell_type": "code",
   "execution_count": 2,
   "metadata": {
    "colab": {
     "base_uri": "https://localhost:8080/",
     "height": 51
    },
    "colab_type": "code",
    "executionInfo": {
     "elapsed": 324,
     "status": "ok",
     "timestamp": 1561158350431,
     "user": {
      "displayName": "Eric Johnson",
      "photoUrl": "",
      "userId": "03074164713773358930"
     },
     "user_tz": 240
    },
    "id": "izQ6qrfpQVBQ",
    "outputId": "6a1eb8a6-d889-4a1e-876a-1e20ba6768f6"
   },
   "outputs": [
    {
     "name": "stdout",
     "output_type": "stream",
     "text": [
      "implied prob\n",
      "0.3333333333333333\n"
     ]
    }
   ],
   "source": [
    "stake = 1\n",
    "payout = 3\n",
    "ip = implied_prob(stake, payout)\n",
    "print('implied prob')\n",
    "print(ip)"
   ]
  },
  {
   "cell_type": "code",
   "execution_count": 3,
   "metadata": {
    "colab": {
     "base_uri": "https://localhost:8080/",
     "height": 68
    },
    "colab_type": "code",
    "executionInfo": {
     "elapsed": 373,
     "status": "ok",
     "timestamp": 1561158354517,
     "user": {
      "displayName": "Eric Johnson",
      "photoUrl": "",
      "userId": "03074164713773358930"
     },
     "user_tz": 240
    },
    "id": "s8PvCJJSF7jg",
    "outputId": "86ab6182-8cdf-4535-ab92-7a1dc8ea8fa4"
   },
   "outputs": [
    {
     "name": "stdout",
     "output_type": "stream",
     "text": [
      "kelly bet: 0.25\n",
      "portion of bankroll: 25.0\n",
      "bankroll remaining: 75.0\n"
     ]
    }
   ],
   "source": [
    "bank = 100\n",
    "b = 2 # X to 1 odds\n",
    "\n",
    "#p = 0.59\n",
    "p = 0.50\n",
    "\n",
    "k = kelly_bet(b, p)\n",
    "\n",
    "print(f'kelly bet: {k}')\n",
    "print(f'portion of bankroll: {k*bank}')\n",
    "print(f'bankroll remaining: {bank-(k*bank)}')"
   ]
  },
  {
   "cell_type": "code",
   "execution_count": 4,
   "metadata": {
    "colab": {},
    "colab_type": "code",
    "id": "RJBzWEaUL2uG"
   },
   "outputs": [],
   "source": [
    "def minus_implied(minus):\n",
    "    return minus/(minus+100)\n",
    "\n",
    "def plus_implied(plus):\n",
    "    return 100/(plus+100)\n",
    "\n",
    "def plus_to_one(plus):\n",
    "    return plus/100\n",
    "\n",
    "def minus_to_one(minus):\n",
    "    return 100/minus"
   ]
  },
  {
   "cell_type": "code",
   "execution_count": 5,
   "metadata": {
    "colab": {
     "base_uri": "https://localhost:8080/",
     "height": 170
    },
    "colab_type": "code",
    "executionInfo": {
     "elapsed": 424,
     "status": "ok",
     "timestamp": 1561159226378,
     "user": {
      "displayName": "Eric Johnson",
      "photoUrl": "",
      "userId": "03074164713773358930"
     },
     "user_tz": 240
    },
    "id": "CtZGzJSWQeiM",
    "outputId": "753b6b67-ee2b-44e0-bc16-3db8e34a7acc"
   },
   "outputs": [
    {
     "name": "stdout",
     "output_type": "stream",
     "text": [
      "minus implied prob: 0.6551724137931034\n",
      "minus 538 prob: 0.67\n",
      "minus to one: 0.5263157894736842\n",
      "minus kelly bet: 21.500000000000025\n",
      "\n",
      "plus implied prob: 0.35714285714285715\n",
      "plus 538 prob: 0.33\n",
      "plus to one: 1.8\n",
      "plus kelly bet: -21.111111111111068\n"
     ]
    }
   ],
   "source": [
    "minus = 190\n",
    "m_prob = 0.67\n",
    "plus = 180\n",
    "p_prob = 0.33\n",
    "\n",
    "m_to_one = minus_to_one(minus)\n",
    "p_to_one = plus_to_one(plus)\n",
    "\n",
    "bank = 500\n",
    "\n",
    "m_kelly = kelly_bet(m_to_one, m_prob)\n",
    "p_kelly = kelly_bet(p_to_one, p_prob)\n",
    "print(f'minus implied prob: {minus_implied(minus)}')\n",
    "print(f'minus 538 prob: {m_prob}')\n",
    "print(f'minus to one: {m_to_one}')\n",
    "print(f'minus kelly bet: {m_kelly*bank}')\n",
    "print('')\n",
    "print(f'plus implied prob: {plus_implied(plus)}')\n",
    "print(f'plus 538 prob: {p_prob}')\n",
    "print(f'plus to one: {p_to_one}')\n",
    "print(f'plus kelly bet: {p_kelly*bank}')"
   ]
  },
  {
   "cell_type": "code",
   "execution_count": null,
   "metadata": {
    "colab": {},
    "colab_type": "code",
    "id": "70s3IU_X-YNR"
   },
   "outputs": [],
   "source": []
  }
 ],
 "metadata": {
  "colab": {
   "collapsed_sections": [],
   "name": "kelly.ipynb",
   "provenance": [],
   "version": "0.3.2"
  },
  "kernelspec": {
   "display_name": "Python 3",
   "language": "python",
   "name": "python3"
  },
  "language_info": {
   "codemirror_mode": {
    "name": "ipython",
    "version": 3
   },
   "file_extension": ".py",
   "mimetype": "text/x-python",
   "name": "python",
   "nbconvert_exporter": "python",
   "pygments_lexer": "ipython3",
   "version": "3.7.4"
  }
 },
 "nbformat": 4,
 "nbformat_minor": 1
}
