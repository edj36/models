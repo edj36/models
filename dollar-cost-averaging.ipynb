{
 "cells": [
  {
   "cell_type": "markdown",
   "metadata": {},
   "source": [
    "# Dollar cost averaging \n",
    "\n",
    "Notebook to model potential returns of dollar cost averaging strategy based on specific indexes, dates, amounts, frequencies, etc. "
   ]
  },
  {
   "cell_type": "code",
   "execution_count": 9,
   "metadata": {
    "collapsed": false
   },
   "outputs": [],
   "source": [
    "import numpy as np\n",
    "import pandas as pd \n",
    "import quandl\n",
    "\n",
    "quandl.ApiConfig.api_key = 'K49CfJ9c88jcyJja4unF'\n",
    "\n",
    "dow_code = 'BCB/UDJIAD1'\n",
    "sp_code = 'MULTPL/SP500_REAL_PRICE_MONTH'"
   ]
  },
  {
   "cell_type": "markdown",
   "metadata": {},
   "source": [
    "For each month, we invest the same amount of money into the S&P. At the last month, figure out how much you are up/down."
   ]
  },
  {
   "cell_type": "code",
   "execution_count": 26,
   "metadata": {
    "collapsed": false
   },
   "outputs": [],
   "source": [
    "monthly_invest = 500\n",
    "start = '2010-02-12'\n",
    "end = '2015-02-12'\n",
    "\n",
    "sp_data = quandl.get(sp_code, returns=\"numpy\", start_date=start, end_date=end)"
   ]
  },
  {
   "cell_type": "code",
   "execution_count": 27,
   "metadata": {
    "collapsed": false
   },
   "outputs": [
    {
     "name": "stdout",
     "output_type": "stream",
     "text": [
      "Total amount invested:    30000\n",
      "Number of shares bought:  20.72946703261601\n",
      "Value of shares owned:    43162.896255313055\n",
      "Net:                      13162.896255313055\n",
      "Return:                   43.876320851043516\n"
     ]
    }
   ],
   "source": [
    "total_invested = 0\n",
    "shares_bought = 0\n",
    "for month in sp_data:\n",
    "    price = month[1]\n",
    "    shares_bought = shares_bought + (monthly_invest/price)\n",
    "    total_invested = total_invested + monthly_invest\n",
    "    \n",
    "ending_price = sp_data[-1][1]\n",
    "ending_value = shares_bought * ending_price\n",
    "print('Total amount invested:   ', total_invested)\n",
    "print('Number of shares bought: ', shares_bought)\n",
    "print('Value of shares owned:   ', ending_value)\n",
    "print('Net:                     ', ending_value - total_invested)\n",
    "print('Return:                  ',((ending_value - total_invested)/total_invested)*100)"
   ]
  },
  {
   "cell_type": "code",
   "execution_count": null,
   "metadata": {
    "collapsed": true
   },
   "outputs": [],
   "source": []
  }
 ],
 "metadata": {
  "kernelspec": {
   "display_name": "Python [conda root]",
   "language": "python",
   "name": "conda-root-py"
  },
  "language_info": {
   "codemirror_mode": {
    "name": "ipython",
    "version": 3
   },
   "file_extension": ".py",
   "mimetype": "text/x-python",
   "name": "python",
   "nbconvert_exporter": "python",
   "pygments_lexer": "ipython3",
   "version": "3.5.2"
  }
 },
 "nbformat": 4,
 "nbformat_minor": 2
}
